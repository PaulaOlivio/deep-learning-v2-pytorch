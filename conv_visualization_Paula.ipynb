{
  "nbformat": 4,
  "nbformat_minor": 0,
  "metadata": {
    "colab": {
      "name": "conv_visualization.ipynb",
      "version": "0.3.2",
      "provenance": [],
      "include_colab_link": true
    },
    "kernelspec": {
      "display_name": "Python 3",
      "language": "python",
      "name": "python3"
    }
  },
  "cells": [
    {
      "cell_type": "markdown",
      "metadata": {
        "id": "view-in-github",
        "colab_type": "text"
      },
      "source": [
        "<a href=\"https://colab.research.google.com/github/PaulaOlivio/deep-learning-v2-pytorch/blob/master/conv_visualization_Paula.ipynb\" target=\"_parent\"><img src=\"https://colab.research.google.com/assets/colab-badge.svg\" alt=\"Open In Colab\"/></a>"
      ]
    },
    {
      "metadata": {
        "id": "sUPPiLR6KUrN",
        "colab_type": "text"
      },
      "cell_type": "markdown",
      "source": [
        "# Convolutional Layer\n",
        "\n",
        "In this notebook, we visualize four filtered outputs (a.k.a. activation maps) of a convolutional layer. \n",
        "\n",
        "In this example, *we* are defining four filters that are applied to an input image by initializing the **weights** of a convolutional layer, but a trained CNN will learn the values of these weights.\n",
        "\n",
        "<img src='notebook_ims/conv_layer.gif' height=60% width=60% />"
      ]
    },
    {
      "metadata": {
        "id": "3Ft-6ZGRKUrO",
        "colab_type": "text"
      },
      "cell_type": "markdown",
      "source": [
        "### Import the image"
      ]
    },
    {
      "metadata": {
        "id": "2fZHeaFqKUrP",
        "colab_type": "code",
        "colab": {
          "base_uri": "https://localhost:8080/",
          "height": 231
        },
        "outputId": "6ce61ed7-bc20-40fc-ea76-bc6137f63db9"
      },
      "cell_type": "code",
      "source": [
        "import cv2\n",
        "import matplotlib.pyplot as plt\n",
        "%matplotlib inline\n",
        "\n",
        "# TODO: Feel free to try out your own images here by changing img_path\n",
        "# to a file path to another image on your computer!\n",
        "#img_path = 'data/udacity_sdc.png'\n",
        "\n",
        "img_path = 'C:\\\\Users\\\\polivio\\\\Documents\\\\Pessoal\\\\pytorch\\\\testeJu.jpg'\n",
        "\n",
        "# load color image \n",
        "bgr_img = cv2.imread(img_path)\n",
        "# convert to grayscale\n",
        "gray_img = cv2.cvtColor(bgr_img, cv2.COLOR_BGR2GRAY)\n",
        "\n",
        "# normalize, rescale entries to lie in [0,1]\n",
        "gray_img = gray_img.astype(\"float32\")/255\n",
        "\n",
        "# plot image\n",
        "plt.imshow(gray_img, cmap='gray')\n",
        "plt.show()"
      ],
      "execution_count": 1,
      "outputs": [
        {
          "output_type": "error",
          "ename": "error",
          "evalue": "ignored",
          "traceback": [
            "\u001b[0;31m---------------------------------------------------------------------------\u001b[0m",
            "\u001b[0;31merror\u001b[0m                                     Traceback (most recent call last)",
            "\u001b[0;32m<ipython-input-1-fe6fa399e80c>\u001b[0m in \u001b[0;36m<module>\u001b[0;34m()\u001b[0m\n\u001b[1;32m     12\u001b[0m \u001b[0mbgr_img\u001b[0m \u001b[0;34m=\u001b[0m \u001b[0mcv2\u001b[0m\u001b[0;34m.\u001b[0m\u001b[0mimread\u001b[0m\u001b[0;34m(\u001b[0m\u001b[0mimg_path\u001b[0m\u001b[0;34m)\u001b[0m\u001b[0;34m\u001b[0m\u001b[0;34m\u001b[0m\u001b[0m\n\u001b[1;32m     13\u001b[0m \u001b[0;31m# convert to grayscale\u001b[0m\u001b[0;34m\u001b[0m\u001b[0;34m\u001b[0m\u001b[0;34m\u001b[0m\u001b[0m\n\u001b[0;32m---> 14\u001b[0;31m \u001b[0mgray_img\u001b[0m \u001b[0;34m=\u001b[0m \u001b[0mcv2\u001b[0m\u001b[0;34m.\u001b[0m\u001b[0mcvtColor\u001b[0m\u001b[0;34m(\u001b[0m\u001b[0mbgr_img\u001b[0m\u001b[0;34m,\u001b[0m \u001b[0mcv2\u001b[0m\u001b[0;34m.\u001b[0m\u001b[0mCOLOR_BGR2GRAY\u001b[0m\u001b[0;34m)\u001b[0m\u001b[0;34m\u001b[0m\u001b[0;34m\u001b[0m\u001b[0m\n\u001b[0m\u001b[1;32m     15\u001b[0m \u001b[0;34m\u001b[0m\u001b[0m\n\u001b[1;32m     16\u001b[0m \u001b[0;31m# normalize, rescale entries to lie in [0,1]\u001b[0m\u001b[0;34m\u001b[0m\u001b[0;34m\u001b[0m\u001b[0;34m\u001b[0m\u001b[0m\n",
            "\u001b[0;31merror\u001b[0m: OpenCV(3.4.3) /io/opencv/modules/imgproc/src/color.cpp:181: error: (-215:Assertion failed) !_src.empty() in function 'cvtColor'\n"
          ]
        }
      ]
    },
    {
      "metadata": {
        "id": "rPek2YjrKUrT",
        "colab_type": "text"
      },
      "cell_type": "markdown",
      "source": [
        "### Define and visualize the filters"
      ]
    },
    {
      "metadata": {
        "id": "aLPojezdKUrU",
        "colab_type": "code",
        "colab": {}
      },
      "cell_type": "code",
      "source": [
        "import numpy as np\n",
        "\n",
        "## TODO: Feel free to modify the numbers here, to try out another filter!\n",
        "filter_vals = np.array([[-1, -1, 1, 1], [-1, -1, 1, 1], [-1, -1, 1, 1], [-1, -1, 1, 1]])\n",
        "\n",
        "print('Filter shape: ', filter_vals.shape)\n"
      ],
      "execution_count": 0,
      "outputs": []
    },
    {
      "metadata": {
        "id": "ez4daCWdKUrV",
        "colab_type": "code",
        "colab": {}
      },
      "cell_type": "code",
      "source": [
        "# Defining four different filters, \n",
        "# all of which are linear combinations of the `filter_vals` defined above\n",
        "\n",
        "# define four filters\n",
        "filter_1 = filter_vals\n",
        "filter_2 = -filter_1\n",
        "filter_3 = filter_1.T\n",
        "filter_4 = -filter_3\n",
        "filters = np.array([filter_1, filter_2, filter_3, filter_4])\n",
        "\n",
        "# For an example, print out the values of filter 1\n",
        "print('Filter 1: \\n', filter_1)"
      ],
      "execution_count": 0,
      "outputs": []
    },
    {
      "metadata": {
        "id": "U3wfNXHEKUrX",
        "colab_type": "code",
        "colab": {}
      },
      "cell_type": "code",
      "source": [
        "# visualize all four filters\n",
        "fig = plt.figure(figsize=(10, 5))\n",
        "for i in range(4):\n",
        "    ax = fig.add_subplot(1, 4, i+1, xticks=[], yticks=[])\n",
        "    ax.imshow(filters[i], cmap='gray')\n",
        "    ax.set_title('Filter %s' % str(i+1))\n",
        "    width, height = filters[i].shape\n",
        "    for x in range(width):\n",
        "        for y in range(height):\n",
        "            ax.annotate(str(filters[i][x][y]), xy=(y,x),\n",
        "                        horizontalalignment='center',\n",
        "                        verticalalignment='center',\n",
        "                        color='white' if filters[i][x][y]<0 else 'black')"
      ],
      "execution_count": 0,
      "outputs": []
    },
    {
      "metadata": {
        "id": "66RQw5ERKUrb",
        "colab_type": "text"
      },
      "cell_type": "markdown",
      "source": [
        "## Define a convolutional layer \n",
        "\n",
        "The various layers that make up any neural network are documented, [here](http://pytorch.org/docs/stable/nn.html). For a convolutional neural network, we'll start by defining a:\n",
        "* Convolutional layer\n",
        "\n",
        "Initialize a single convolutional layer so that it contains all your created filters. Note that you are not training this network; you are initializing the weights in a convolutional layer so that you can visualize what happens after a forward pass through this network!\n",
        "\n",
        "\n",
        "#### `__init__` and `forward`\n",
        "To define a neural network in PyTorch, you define the layers of a model in the function `__init__` and define the forward behavior of a network that applyies those initialized layers to an input (`x`) in the function `forward`. In PyTorch we convert all inputs into the Tensor datatype, which is similar to a list data type in Python. \n",
        "\n",
        "Below, I define the structure of a class called `Net` that has a convolutional layer that can contain four 3x3 grayscale filters."
      ]
    },
    {
      "metadata": {
        "id": "LmlOehjFKUrb",
        "colab_type": "code",
        "colab": {}
      },
      "cell_type": "code",
      "source": [
        "import torch\n",
        "import torch.nn as nn\n",
        "import torch.nn.functional as F\n",
        "    \n",
        "# define a neural network with a single convolutional layer with four filters\n",
        "class Net(nn.Module):\n",
        "    \n",
        "    def __init__(self, weight):\n",
        "        super(Net, self).__init__()\n",
        "        # initializes the weights of the convolutional layer to be the weights of the 4 defined filters\n",
        "        k_height, k_width = weight.shape[2:]\n",
        "        # assumes there are 4 grayscale filters\n",
        "        self.conv = nn.Conv2d(1, 4, kernel_size=(k_height, k_width), bias=False)\n",
        "        self.conv.weight = torch.nn.Parameter(weight)\n",
        "\n",
        "    def forward(self, x):\n",
        "        # calculates the output of a convolutional layer\n",
        "        # pre- and post-activation\n",
        "        conv_x = self.conv(x)\n",
        "        activated_x = F.relu(conv_x)\n",
        "        \n",
        "        # returns both layers\n",
        "        return conv_x, activated_x\n",
        "    \n",
        "# instantiate the model and set the weights\n",
        "weight = torch.from_numpy(filters).unsqueeze(1).type(torch.FloatTensor)\n",
        "model = Net(weight)\n",
        "\n",
        "# print out the layer in the network\n",
        "print(model)"
      ],
      "execution_count": 0,
      "outputs": []
    },
    {
      "metadata": {
        "id": "lfUPsCi3KUrd",
        "colab_type": "text"
      },
      "cell_type": "markdown",
      "source": [
        "### Visualize the output of each filter\n",
        "\n",
        "First, we'll define a helper function, `viz_layer` that takes in a specific layer and number of filters (optional argument), and displays the output of that layer once an image has been passed through."
      ]
    },
    {
      "metadata": {
        "id": "9pSm_ch6KUre",
        "colab_type": "code",
        "colab": {}
      },
      "cell_type": "code",
      "source": [
        "# helper function for visualizing the output of a given layer\n",
        "# default number of filters is 4\n",
        "def viz_layer(layer, n_filters= 4):\n",
        "    fig = plt.figure(figsize=(20, 20))\n",
        "    \n",
        "    for i in range(n_filters):\n",
        "        ax = fig.add_subplot(1, n_filters, i+1, xticks=[], yticks=[])\n",
        "        # grab layer outputs\n",
        "        ax.imshow(np.squeeze(layer[0,i].data.numpy()), cmap='gray')\n",
        "        ax.set_title('Output %s' % str(i+1))"
      ],
      "execution_count": 0,
      "outputs": []
    },
    {
      "metadata": {
        "id": "3p0rhh8yKUrg",
        "colab_type": "text"
      },
      "cell_type": "markdown",
      "source": [
        "Let's look at the output of a convolutional layer, before and after a ReLu activation function is applied."
      ]
    },
    {
      "metadata": {
        "id": "V3XBI1MjKUrg",
        "colab_type": "code",
        "colab": {}
      },
      "cell_type": "code",
      "source": [
        "# plot original image\n",
        "plt.imshow(gray_img, cmap='gray')\n",
        "\n",
        "# visualize all filters\n",
        "fig = plt.figure(figsize=(12, 6))\n",
        "fig.subplots_adjust(left=0, right=1.5, bottom=0.8, top=1, hspace=0.05, wspace=0.05)\n",
        "for i in range(4):\n",
        "    ax = fig.add_subplot(1, 4, i+1, xticks=[], yticks=[])\n",
        "    ax.imshow(filters[i], cmap='gray')\n",
        "    ax.set_title('Filter %s' % str(i+1))\n",
        "\n",
        "    \n",
        "# convert the image into an input Tensor\n",
        "gray_img_tensor = torch.from_numpy(gray_img).unsqueeze(0).unsqueeze(1)\n",
        "\n",
        "# get the convolutional layer (pre and post activation)\n",
        "conv_layer, activated_layer = model(gray_img_tensor)\n",
        "\n",
        "# visualize the output of a conv layer\n",
        "viz_layer(conv_layer)"
      ],
      "execution_count": 0,
      "outputs": []
    },
    {
      "metadata": {
        "id": "lgtmQC0uKUri",
        "colab_type": "text"
      },
      "cell_type": "markdown",
      "source": [
        "#### ReLu activation\n",
        "\n",
        "In this model, we've used an activation function that scales the output of the convolutional layer. We've chose a ReLu function to do this, and this function simply turns all negative pixel values in 0's (black). See the equation pictured below for input pixel values, `x`. \n",
        "\n",
        "<img src='notebook_ims/relu_ex.png' height=50% width=50% />"
      ]
    },
    {
      "metadata": {
        "id": "jjhDBsgEKUri",
        "colab_type": "code",
        "colab": {}
      },
      "cell_type": "code",
      "source": [
        "# after a ReLu is applied\n",
        "# visualize the output of an activated conv layer\n",
        "viz_layer(activated_layer)"
      ],
      "execution_count": 0,
      "outputs": []
    },
    {
      "metadata": {
        "id": "NdxzX34_KUrk",
        "colab_type": "code",
        "colab": {}
      },
      "cell_type": "code",
      "source": [
        ""
      ],
      "execution_count": 0,
      "outputs": []
    }
  ]
}